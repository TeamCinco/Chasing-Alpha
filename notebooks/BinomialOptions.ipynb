{
 "cells": [
  {
   "cell_type": "code",
   "execution_count": 75,
   "metadata": {},
   "outputs": [
    {
     "name": "stdout",
     "output_type": "stream",
     "text": [
      "Available columns in options_data:\n",
      "['symbol', 'status', 'strategy', 'interval', 'isDelayed', 'isIndex', 'daysToExpiration', 'interestRate', 'underlyingPrice', 'volatility', 'optionType', 'expirationDate', 'strikePrice', 'description', 'exchangeName', 'bidPrice', 'askPrice', 'lastPrice', 'mark', 'bidSize', 'askSize', 'lastSize', 'highPrice', 'lowPrice', 'openPrice', 'closePrice', 'totalVolume', 'tradeDate', 'quoteTimeInLong', 'tradeTimeInLong', 'netChange', 'delta', 'gamma', 'theta', 'vega', 'rho', 'timeValue', 'openInterest', 'isInTheMoney', 'theoreticalOptionValue', 'theoreticalVolatility', 'isMini', 'isNonStandard', 'optionDeliverablesList', 'expirationType', 'lastTradingDay', 'multiplier', 'settlementType', 'deliverableNote', 'isIndexOption', 'percentChange', 'markChange', 'markPercentChange', 'isPennyPilot', 'intrinsicValue', 'optionRoot']\n"
     ]
    }
   ],
   "source": [
    "# Cell 1: Import and Load Data\n",
    "import numpy as np\n",
    "import pandas as pd\n",
    "import matplotlib.pyplot as plt\n",
    "from datetime import datetime\n",
    "\n",
    "fundamentals = pd.read_csv(r\"C:\\Users\\cinco\\Desktop\\DATA FOR SCRIPTS\\Charles\\fundamentals_20250119_225604.csv\")\n",
    "options_data = pd.read_csv(r\"C:\\Users\\cinco\\Desktop\\DATA FOR SCRIPTS\\Charles\\SPY_type_ALL_strikes_10_strat_SINGLE_20250119_234821.csv\")  # Add your combined file path here\n",
    "print(\"Available columns in options_data:\")\n",
    "print(options_data.columns.tolist())"
   ]
  },
  {
   "cell_type": "code",
   "execution_count": 77,
   "metadata": {},
   "outputs": [
    {
     "name": "stdout",
     "output_type": "stream",
     "text": [
      "Current Price: $597.69\n",
      "\n",
      "Nearest ATM Call Options:\n",
      "                   symbol  strikePrice  mark  theoreticalVolatility\n",
      "5   SPY   250121C00598000        598.0  1.74                   29.0\n",
      "15  SPY   250122C00598000        598.0  2.62                   29.0\n",
      "25  SPY   250123C00598000        598.0  3.22                   29.0\n",
      "35  SPY   250124C00598000        598.0  3.92                   29.0\n",
      "45  SPY   250127C00598000        598.0  4.38                   29.0\n",
      "\n",
      "Top OTM Call Options:\n",
      "                    symbol  strikePrice   mark  theoreticalVolatility\n",
      "179  SPY   250417C00620000        620.0   7.15                   29.0\n",
      "199  SPY   250516C00620000        620.0  10.55                   29.0\n",
      "219  SPY   250620C00620000        620.0  14.29                   29.0\n",
      "229  SPY   250630C00620000        620.0  14.87                   29.0\n",
      "239  SPY   250718C00620000        620.0  16.82                   29.0\n",
      "\n",
      "Nearest ATM Put Options:\n",
      "                    symbol  strikePrice  mark  theoreticalVolatility\n",
      "384  SPY   250124P00597500        597.5  3.93                   29.0\n",
      "474  SPY   250214P00597500        597.5  7.93                   29.0\n",
      "354  SPY   250121P00597000        597.0  1.88                   29.0\n",
      "364  SPY   250122P00597000        597.0  2.69                   29.0\n",
      "374  SPY   250123P00597000        597.0  3.22                   29.0\n",
      "\n",
      "Top OTM Put Options:\n",
      "                    symbol  strikePrice   mark  theoreticalVolatility\n",
      "520  SPY   250417P00575000        575.0   8.16                   29.0\n",
      "540  SPY   250516P00575000        575.0  10.31                   29.0\n",
      "560  SPY   250620P00575000        575.0  12.59                   29.0\n",
      "570  SPY   250630P00575000        575.0  13.18                   29.0\n",
      "580  SPY   250718P00575000        575.0  14.39                   29.0\n"
     ]
    },
    {
     "name": "stderr",
     "output_type": "stream",
     "text": [
      "C:\\Users\\cinco\\AppData\\Local\\Temp\\ipykernel_20232\\2355502355.py:9: SettingWithCopyWarning: \n",
      "A value is trying to be set on a copy of a slice from a DataFrame.\n",
      "Try using .loc[row_indexer,col_indexer] = value instead\n",
      "\n",
      "See the caveats in the documentation: https://pandas.pydata.org/pandas-docs/stable/user_guide/indexing.html#returning-a-view-versus-a-copy\n",
      "  calls['distance_from_atm'] = abs(calls['strikePrice'] - current_price)\n",
      "C:\\Users\\cinco\\AppData\\Local\\Temp\\ipykernel_20232\\2355502355.py:10: SettingWithCopyWarning: \n",
      "A value is trying to be set on a copy of a slice from a DataFrame.\n",
      "Try using .loc[row_indexer,col_indexer] = value instead\n",
      "\n",
      "See the caveats in the documentation: https://pandas.pydata.org/pandas-docs/stable/user_guide/indexing.html#returning-a-view-versus-a-copy\n",
      "  puts['distance_from_atm'] = abs(puts['strikePrice'] - current_price)\n"
     ]
    }
   ],
   "source": [
    "def get_atm_options(options_data, n=5):\n",
    "    current_price = options_data['underlyingPrice'].iloc[0]\n",
    "    \n",
    "    # Separate calls and puts\n",
    "    calls = options_data[options_data['optionType'] == 'CALL']\n",
    "    puts = options_data[options_data['optionType'] == 'PUT']\n",
    "    \n",
    "    # Calculate distance from ATM for each option\n",
    "    calls['distance_from_atm'] = abs(calls['strikePrice'] - current_price)\n",
    "    puts['distance_from_atm'] = abs(puts['strikePrice'] - current_price)\n",
    "    \n",
    "    # Get ATM options\n",
    "    atm_calls = calls[calls['strikePrice'] >= current_price].nsmallest(n, 'distance_from_atm')\n",
    "    atm_puts = puts[puts['strikePrice'] <= current_price].nsmallest(n, 'distance_from_atm')\n",
    "    \n",
    "    # Get OTM options moving towards ATM\n",
    "    otm_calls = calls[calls['strikePrice'] > current_price].nlargest(n, 'distance_from_atm')\n",
    "    otm_puts = puts[puts['strikePrice'] < current_price].nlargest(n, 'distance_from_atm')\n",
    "    \n",
    "    print(f\"Current Price: ${current_price:.2f}\")\n",
    "    print(\"\\nNearest ATM Call Options:\")\n",
    "    print(atm_calls[['symbol', 'strikePrice', 'mark', 'theoreticalVolatility']].to_string())\n",
    "    print(\"\\nTop OTM Call Options:\")\n",
    "    print(otm_calls[['symbol', 'strikePrice', 'mark', 'theoreticalVolatility']].to_string())\n",
    "    print(\"\\nNearest ATM Put Options:\")\n",
    "    print(atm_puts[['symbol', 'strikePrice', 'mark', 'theoreticalVolatility']].to_string())\n",
    "    print(\"\\nTop OTM Put Options:\")\n",
    "    print(otm_puts[['symbol', 'strikePrice', 'mark', 'theoreticalVolatility']].to_string())\n",
    "\n",
    "get_atm_options(options_data)"
   ]
  },
  {
   "cell_type": "code",
   "execution_count": 78,
   "metadata": {},
   "outputs": [
    {
     "name": "stdout",
     "output_type": "stream",
     "text": [
      "\n",
      "Selected Option Details:\n",
      "symbol: SPY   250122P00593000\n",
      "strikePrice: 593.0\n",
      "expirationDate: 2025-01-22:2\n",
      "mark: 1.42\n",
      "theoreticalVolatility: 29.0\n",
      "delta: -999.0\n",
      "optionType: PUT\n"
     ]
    }
   ],
   "source": [
    "def select_option_by_symbol(symbol, options_data):\n",
    "    if symbol in options_data['symbol'].values:\n",
    "        option_data = options_data[options_data['symbol'] == symbol].iloc[0]\n",
    "        option_type = 'call' if option_data['optionType'] == 'CALL' else 'put'\n",
    "    else:\n",
    "        raise ValueError(\"Symbol not found in options data\")\n",
    "    \n",
    "    return option_data, option_type\n",
    "\n",
    "# Input symbol here\n",
    "symbol = \"SPY   250122P00593000\"  # Replace with your chosen symbol\n",
    "selected_option, option_type = select_option_by_symbol(symbol, options_data)\n",
    "\n",
    "print(\"\\nSelected Option Details:\")\n",
    "fields_to_display = [\n",
    "    'symbol', \n",
    "    'strikePrice', \n",
    "    'expirationDate', \n",
    "    'mark',  # Changed from 'mark' to 'markPrice'\n",
    "    'theoreticalVolatility', \n",
    "    'delta',\n",
    "    'optionType'\n",
    "]\n",
    "\n",
    "for field in fields_to_display:\n",
    "    print(f\"{field}: {selected_option[field]}\")"
   ]
  },
  {
   "cell_type": "code",
   "execution_count": 79,
   "metadata": {},
   "outputs": [],
   "source": [
    "class BinomialConfig:\n",
    "    def __init__(self, selected_option, fundamentals_data):\n",
    "        # Get underlying price from the description\n",
    "        self.initial_price = float(selected_option['description'].split()[2])\n",
    "        self.strike_price = float(selected_option['strikePrice'])\n",
    "        \n",
    "        # Convert volatility from whole number to decimal (e.g., 29 -> 0.29)\n",
    "        self.volatility = float(selected_option['theoreticalVolatility']) / 100\n",
    "        \n",
    "        # Convert interest rate from whole number to decimal (e.g., 4.78 -> 0.0478)\n",
    "        self.risk_free_rate = float(selected_option['interestRate']) / 100\n",
    "        \n",
    "        # Get dividend information\n",
    "        symbol = selected_option['symbol'].split()[0]  # Get the underlying symbol (SPY)\n",
    "        dividend_info = fundamentals_data[fundamentals_data['symbol'] == symbol].iloc[0]\n",
    "        self.div_yield = float(dividend_info['divYield']) if pd.notna(dividend_info['divYield']) else 0.0\n",
    "        \n",
    "        self.periods = 4\n",
    "        self.option_type = option_type\n",
    "        \n",
    "        # Calculate factors using the converted rates\n",
    "        self.up_factor = np.exp(self.volatility * np.sqrt(1/self.periods))\n",
    "        self.down_factor = 1/self.up_factor\n",
    "        \n",
    "        # Adjust probability calculations for dividends\n",
    "        effective_rate = self.risk_free_rate - self.div_yield\n",
    "        self.risk_neutral_prob_up = (1 + effective_rate - self.down_factor) / (self.up_factor - self.down_factor)\n",
    "        self.risk_neutral_prob_down = (self.up_factor - (1 + effective_rate)) / (self.up_factor - self.down_factor)"
   ]
  },
  {
   "cell_type": "code",
   "execution_count": 88,
   "metadata": {},
   "outputs": [
    {
     "name": "stderr",
     "output_type": "stream",
     "text": [
      "C:\\Users\\cinco\\AppData\\Local\\Temp\\ipykernel_20232\\2330848020.py:15: RuntimeWarning: overflow encountered in exp\n",
      "  stock_tree[i, j] = np.exp(log_price)\n"
     ]
    }
   ],
   "source": [
    "def generate_option_tree(stock_tree, config):\n",
    "    # Initialize option tree with zeros\n",
    "    option_tree = np.zeros_like(stock_tree)\n",
    "    periods = config.periods\n",
    "    \n",
    "    # Fill in terminal values (last column)\n",
    "    for j in range(periods + 1):\n",
    "        if config.option_type == 'call':\n",
    "            option_tree[periods, j] = max(0, stock_tree[periods, j] - config.strike_price)\n",
    "        else:  # put option\n",
    "            option_tree[periods, j] = max(0, config.strike_price - stock_tree[periods, j])\n",
    "    \n",
    "    # Work backwards through the tree\n",
    "    for i in range(periods-1, -1, -1):\n",
    "        for j in range(i + 1):\n",
    "            # Risk-neutral pricing formula\n",
    "            future_up = option_tree[i+1, j+1]\n",
    "            future_down = option_tree[i+1, j]\n",
    "            \n",
    "            # Discount factor for one period\n",
    "            discount = 1 / (1 + config.risk_free_rate/periods)\n",
    "            \n",
    "            # Calculate option value at this node\n",
    "            option_tree[i, j] = discount * (\n",
    "                config.risk_neutral_prob_up * future_up +\n",
    "                config.risk_neutral_prob_down * future_down\n",
    "            )\n",
    "    \n",
    "    return option_tree\n",
    "\n",
    "# Generate both trees before analysis\n",
    "stock_tree = generate_stock_tree(config)\n",
    "option_tree = generate_option_tree(stock_tree, config)"
   ]
  },
  {
   "cell_type": "code",
   "execution_count": 86,
   "metadata": {},
   "outputs": [
    {
     "name": "stdout",
     "output_type": "stream",
     "text": [
      "Model Price: $581.29\n",
      "Market Price: $1.42\n",
      "Difference: $579.87\n",
      "Delta (Model): -0.0000\n"
     ]
    },
    {
     "data": {
      "image/png": "[encoded data removed]",
      "text/plain": [
       "<Figure size 1000x600 with 1 Axes>"
      ]
     },
     "metadata": {},
     "output_type": "display_data"
    }
   ],
   "source": [
    "def analyze_results(config, option_tree, selected_option):\n",
    "    model_price = option_tree[0, 0]\n",
    "    market_price = selected_option['mark']\n",
    "    \n",
    "    # Calculate theoretical delta\n",
    "    delta_up = option_tree[1, 1]\n",
    "    delta_down = option_tree[1, 0]\n",
    "    price_up = stock_tree[1, 1]\n",
    "    price_down = stock_tree[1, 0]\n",
    "    theoretical_delta = (delta_up - delta_down) / (price_up - price_down)\n",
    "    \n",
    "    print(f\"Model Price: ${model_price:.2f}\")\n",
    "    print(f\"Market Price: ${market_price:.2f}\")\n",
    "    print(f\"Difference: ${model_price - market_price:.2f}\")\n",
    "    print(f\"Delta (Model): {theoretical_delta:.4f}\")\n",
    "    \n",
    "    # Only show market Greeks if they're available (not -999)\n",
    "    if selected_option['delta'] != -999:\n",
    "        print(f\"Delta (Market): {selected_option['delta']:.4f}\")\n",
    "    if selected_option['gamma'] != -999:\n",
    "        print(f\"Gamma (Market): {selected_option['gamma']:.4f}\")\n",
    "    if selected_option['theta'] != -999:\n",
    "        print(f\"Theta (Market): {selected_option['theta']:.4f}\")\n",
    "    if selected_option['vega'] != -999:\n",
    "        print(f\"Vega (Market): {selected_option['vega']:.4f}\")\n",
    "    \n",
    "    plt.figure(figsize=(10, 6))\n",
    "    plt.plot(range(config.periods + 1), [option_tree[i, i] for i in range(config.periods + 1)], \n",
    "             marker='o', label='Model Prices')\n",
    "    plt.axhline(y=market_price, color='r', linestyle='--', label='Market Price')\n",
    "    plt.title(f'{config.option_type.upper()} Option Price Evolution - {selected_option[\"symbol\"]}')\n",
    "    plt.xlabel('Time Period')\n",
    "    plt.ylabel('Option Price')\n",
    "    plt.legend()\n",
    "    plt.grid(True)\n",
    "    plt.show()\n",
    "analyze_results(config, option_tree, selected_option)"
   ]
  },
  {
   "cell_type": "code",
   "execution_count": null,
   "metadata": {},
   "outputs": [],
   "source": []
  },
  {
   "cell_type": "code",
   "execution_count": null,
   "metadata": {},
   "outputs": [],
   "source": []
  },
  {
   "cell_type": "code",
   "execution_count": null,
   "metadata": {},
   "outputs": [],
   "source": []
  },
  {
   "cell_type": "code",
   "execution_count": null,
   "metadata": {},
   "outputs": [],
   "source": []
  },
  {
   "cell_type": "code",
   "execution_count": null,
   "metadata": {},
   "outputs": [],
   "source": []
  }
 ],
 "metadata": {
  "kernelspec": {
   "display_name": "Python 3",
   "language": "python",
   "name": "python3"
  },
  "language_info": {
   "codemirror_mode": {
    "name": "ipython",
    "version": 3
   },
   "file_extension": ".py",
   "mimetype": "text/x-python",
   "name": "python",
   "nbconvert_exporter": "python",
   "pygments_lexer": "ipython3",
   "version": "3.11.9"
  }
 },
 "nbformat": 4,
 "nbformat_minor": 2
}
